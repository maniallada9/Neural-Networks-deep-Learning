{
  "nbformat": 4,
  "nbformat_minor": 0,
  "metadata": {
    "colab": {
      "provenance": []
    },
    "kernelspec": {
      "name": "python3",
      "display_name": "Python 3"
    },
    "language_info": {
      "name": "python"
    }
  },
  "cells": [
    {
      "cell_type": "code",
      "execution_count": null,
      "metadata": {
        "colab": {
          "base_uri": "https://localhost:8080/"
        },
        "id": "5ypyt1ju5V3Z",
        "outputId": "ef9bc069-e964-4362-b627-0f66125c8e62"
      },
      "outputs": [
        {
          "output_type": "stream",
          "name": "stdout",
          "text": [
            "First namemani\n",
            "last nameallada\n",
            "mani allada\n",
            "mn laa\n"
          ]
        }
      ],
      "source": [
        "#function for printing alternative characters\n",
        "def string_alternative(full_name):\n",
        "  str=\"\"\n",
        "  for i in range(0,len(full_name)):\n",
        "    if i%2==0:\n",
        "      str+=full_name[i] # adding each alternate character\n",
        "  print(str)\n",
        "  #function for fullname\n",
        "def fullname(fn,ln):\n",
        "  Full_name=fn+\" \"+ln #concatinating both firstname and lastname\n",
        "  return Full_name\n",
        "First_name=input(\"First name\") #input first name\n",
        "last_name=input(\"last name\") #input last name\n",
        "Full_name=fullname(First_name,last_name) # calling Full_name function\n",
        "print(Full_name)\n",
        "string_alternative(Full_name) # calling string_alternative function"
      ]
    },
    {
      "cell_type": "code",
      "source": [
        "#capturing the output\n",
        "%%capture cap\n",
        "file=open('input.txt','r') #open file from the drive\n",
        "lines=file.read() # read the file\n",
        "print(lines)\n",
        "line=lines.splitlines()\n",
        "words=\" \".join(line).split(\" \") # get each word\n",
        "d=dict()\n",
        "for word in words:\n",
        "  if word in d:\n",
        "    d[word]=d[word]+1\n",
        "  else:\n",
        "    d[word]=1\n",
        "print(\"Word_Count:\")\n",
        "for key in d.keys():\n",
        "  print(key,\":\",d[key])\n",
        "f = open(\"output.txt\", \"w\") #open output file\n",
        "print(cap, file=f)\n",
        "f.close()\n",
        "\n",
        "\n"
      ],
      "metadata": {
        "id": "jftNpetF_Apm"
      },
      "execution_count": 75,
      "outputs": []
    },
    {
      "cell_type": "code",
      "source": [
        "li=[150,155,145,148]\n",
        "n=int(input(\"enter no of samples\")) # enter number of readings\n",
        "inches=[]\n",
        "cms=[]\n",
        "for i in range(n):\n",
        "  height=float(input(\"enter height in inches\"))\n",
        "  inches.append(height)\n",
        "print(\"nested Interactive loop\") # for interactive loops\n",
        "for i in inches:\n",
        "  cms=cms+[i*2.54]\n",
        "print(cms)\n",
        "#list comprehension\n",
        "print(\"list comprehensions1\")\n",
        "k=[i*2.54 for i in inches] # for list comprehensions\n",
        "print(k)"
      ],
      "metadata": {
        "colab": {
          "base_uri": "https://localhost:8080/"
        },
        "id": "EFqIY04RJK_D",
        "outputId": "be59c8d9-a04a-4e18-8e5f-f7ff46866f19"
      },
      "execution_count": 88,
      "outputs": [
        {
          "output_type": "stream",
          "name": "stdout",
          "text": [
            "enter no of samples2\n",
            "enter height in inches12\n",
            "enter height in inches23\n",
            "nested Interactive loop\n",
            "[30.48, 58.42]\n",
            "list comprehensions1\n",
            "[30.48, 58.42]\n"
          ]
        }
      ]
    }
  ]
}