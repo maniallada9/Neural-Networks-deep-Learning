{
  "nbformat": 4,
  "nbformat_minor": 0,
  "metadata": {
    "colab": {
      "provenance": []
    },
    "kernelspec": {
      "name": "python3",
      "display_name": "Python 3"
    },
    "language_info": {
      "name": "python"
    }
  },
  "cells": [
    {
      "cell_type": "code",
      "source": [
        "# Mount Google Drive\n",
        "from google.colab import drive\n",
        "drive.mount('/content/drive')"
      ],
      "metadata": {
        "colab": {
          "base_uri": "https://localhost:8080/"
        },
        "id": "CEl9w_Fy9Bxx",
        "outputId": "c56cdfa2-ebf0-4ac0-ea59-0cc65b740a14"
      },
      "execution_count": 1,
      "outputs": [
        {
          "output_type": "stream",
          "name": "stdout",
          "text": [
            "Mounted at /content/drive\n"
          ]
        }
      ]
    },
    {
      "cell_type": "code",
      "execution_count": 2,
      "metadata": {
        "id": "2-_Mv5ey8-cA"
      },
      "outputs": [],
      "source": [
        "import os\n",
        "import shutil\n",
        "import random\n",
        "from pathlib import Path\n",
        "from PIL import Image, UnidentifiedImageError\n",
        "import matplotlib.pyplot as plt\n",
        "\n",
        "import torch\n",
        "import torch.nn as nn\n",
        "import torch.optim as optim\n",
        "from torch.utils.data import DataLoader\n",
        "from torchvision import datasets, transforms, models\n",
        "from sklearn.metrics import classification_report"
      ]
    },
    {
      "cell_type": "code",
      "source": [
        "def prepare_dataset():\n",
        "    # Google Drive mounted path\n",
        "    MONT_PATH = \"/content/drive/MyDrive/DataSet/MontgomerySet/CXR_png\"\n",
        "    SHENZHEN_PATH = \"/content/drive/MyDrive/DataSet/ChinaSet_AllFiles/CXR_png\"\n",
        "    TBX11K_PATH = \"/content/drive/MyDrive/TB_Dataset/TBnNormal\"\n",
        "\n",
        "    OUTPUT_PATH = \"/content/filtered_dataset\"\n",
        "    TB_DIR = os.path.join(OUTPUT_PATH, \"TB\")\n",
        "    NORMAL_DIR = os.path.join(OUTPUT_PATH, \"Normal\")\n",
        "\n",
        "    os.makedirs(TB_DIR, exist_ok=True)\n",
        "    os.makedirs(NORMAL_DIR, exist_ok=True)\n",
        "\n",
        "    def copy_resize(img_path, label, count):\n",
        "        target_dir = TB_DIR if label == \"TB\" else NORMAL_DIR\n",
        "        try:\n",
        "            img = Image.open(img_path)\n",
        "            img.verify()  # Check image validity\n",
        "            img = Image.open(img_path).convert(\"RGB\").resize((224, 224))\n",
        "            img.save(os.path.join(target_dir, f\"{label}_{count}.jpg\"), format='JPEG')\n",
        "        except (UnidentifiedImageError, OSError) as e:\n",
        "            print(f\"Skipped {img_path}: {e}\")\n",
        "\n",
        "    image_records = []\n",
        "\n",
        "    # Montgomery: TB images have '_1' in name, Normal have '_0'\n",
        "    for img in Path(MONT_PATH).rglob(\"*.png\"):\n",
        "        name = img.name\n",
        "        if \"_0.png\" in name:\n",
        "            label = \"Normal\"\n",
        "        elif \"_1.png\" in name:\n",
        "            label = \"TB\"\n",
        "        else:\n",
        "            continue\n",
        "        image_records.append((img, label))\n",
        "\n",
        "    # Shenzhen: Same logic\n",
        "    for img in Path(SHENZHEN_PATH).rglob(\"*.png\"):\n",
        "        name = img.name\n",
        "        if \"_0.png\" in name:\n",
        "            label = \"Normal\"\n",
        "        elif \"_1.png\" in name:\n",
        "            label = \"TB\"\n",
        "        else:\n",
        "            continue\n",
        "        image_records.append((img, label))\n",
        "\n",
        "    # TBX11K - already separated\n",
        "    tbx_tb_path = os.path.join(TBX11K_PATH, \"PULMONARY_TUBERCULOSIS\")\n",
        "    tbx_normal_path = os.path.join(TBX11K_PATH, \"NORMAL\")\n",
        "\n",
        "    for img in Path(tbx_tb_path).rglob(\"*.jpg\"):\n",
        "        image_records.append((img, \"TB\"))\n",
        "    for img in Path(tbx_normal_path).rglob(\"*.jpg\"):\n",
        "        image_records.append((img, \"Normal\"))\n",
        "\n",
        "    # Shuffle and limit\n",
        "    random.shuffle(image_records)\n",
        "    tb_images = [img for img in image_records if img[1] == \"TB\"][:2500]\n",
        "    normal_images = [img for img in image_records if img[1] == \"Normal\"][:2500]\n",
        "\n",
        "    print(f\"Total TB images found: {len(tb_images)}\")\n",
        "    print(f\"Total Normal images found: {len(normal_images)}\")\n",
        "\n",
        "    for i, (img_path, label) in enumerate(tb_images + normal_images):\n",
        "        copy_resize(img_path, label, i)"
      ],
      "metadata": {
        "id": "Y-CgB4Va9Evj"
      },
      "execution_count": 3,
      "outputs": []
    },
    {
      "cell_type": "code",
      "source": [
        "def get_dataloaders(data_dir, batch_size=32):\n",
        "    transform = transforms.Compose([\n",
        "        transforms.Resize((224, 224)),\n",
        "        transforms.RandomHorizontalFlip(),\n",
        "        transforms.ToTensor(),\n",
        "        transforms.Normalize([0.485, 0.456, 0.406],\n",
        "                             [0.229, 0.224, 0.225])\n",
        "    ])\n",
        "\n",
        "    dataset = datasets.ImageFolder(data_dir, transform=transform)\n",
        "    train_size = int(0.8 * len(dataset))\n",
        "    test_size = len(dataset) - train_size\n",
        "    train_dataset, test_dataset = torch.utils.data.random_split(dataset, [train_size, test_size])\n",
        "\n",
        "    train_loader = DataLoader(train_dataset, batch_size=batch_size, shuffle=True)\n",
        "    test_loader = DataLoader(test_dataset, batch_size=batch_size, shuffle=False)\n",
        "\n",
        "    return train_loader, test_loader"
      ],
      "metadata": {
        "id": "-Q5u9HWN9J5K"
      },
      "execution_count": 4,
      "outputs": []
    },
    {
      "cell_type": "code",
      "source": [
        "class ChannelAttention(nn.Module):\n",
        "    def __init__(self, in_planes, reduction=16):\n",
        "        super(ChannelAttention, self).__init__()\n",
        "        self.avg_pool = nn.AdaptiveAvgPool2d(1)\n",
        "        self.max_pool = nn.AdaptiveMaxPool2d(1)\n",
        "        self.fc = nn.Sequential(\n",
        "            nn.Conv2d(in_planes, in_planes // reduction, 1, bias=False),\n",
        "            nn.ReLU(),\n",
        "            nn.Conv2d(in_planes // reduction, in_planes, 1, bias=False)\n",
        "        )\n",
        "        self.sigmoid = nn.Sigmoid()\n",
        "\n",
        "    def forward(self, x):\n",
        "        avg_out = self.fc(self.avg_pool(x))\n",
        "        max_out = self.fc(self.max_pool(x))\n",
        "        return self.sigmoid(avg_out + max_out)\n",
        "\n",
        "class SpatialAttention(nn.Module):\n",
        "    def __init__(self, kernel_size=7):\n",
        "        super(SpatialAttention, self).__init__()\n",
        "        padding = kernel_size // 2\n",
        "        self.conv = nn.Conv2d(2, 1, kernel_size, padding=padding, bias=False)\n",
        "        self.sigmoid = nn.Sigmoid()\n",
        "\n",
        "    def forward(self, x):\n",
        "        avg = torch.mean(x, dim=1, keepdim=True)\n",
        "        max_, _ = torch.max(x, dim=1, keepdim=True)\n",
        "        x = torch.cat([avg, max_], dim=1)\n",
        "        return self.sigmoid(self.conv(x))\n",
        "\n",
        "class CBAM(nn.Module):\n",
        "    def __init__(self, in_planes):\n",
        "        super(CBAM, self).__init__()\n",
        "        self.ca = ChannelAttention(in_planes)\n",
        "        self.sa = SpatialAttention()\n",
        "\n",
        "    def forward(self, x):\n",
        "        x = x * self.ca(x)\n",
        "        x = x * self.sa(x)\n",
        "        return x\n",
        "\n",
        "class CBAMWDnet(nn.Module):\n",
        "    def __init__(self, num_classes=2):\n",
        "        super(CBAMWDnet, self).__init__()\n",
        "        base_model = models.densenet121(pretrained=True)\n",
        "        self.features = base_model.features  # no conv0 modification\n",
        "        self.cbam = CBAM(1024)               # Apply CBAM at the end of DenseNet features\n",
        "        self.classifier = nn.Sequential(\n",
        "            nn.AdaptiveAvgPool2d((1, 1)),\n",
        "            nn.Flatten(),\n",
        "            nn.Linear(1024, 256),\n",
        "            nn.ReLU(),\n",
        "            nn.Dropout(0.4),\n",
        "            nn.Linear(256, num_classes)\n",
        "        )\n",
        "\n",
        "    def forward(self, x):\n",
        "        x = self.features(x)\n",
        "        x = self.cbam(x)\n",
        "        return self.classifier(x)"
      ],
      "metadata": {
        "id": "JhsvvzFn9PtR"
      },
      "execution_count": 5,
      "outputs": []
    },
    {
      "cell_type": "code",
      "source": [
        "def train_and_evaluate():\n",
        "    device = torch.device(\"cuda\" if torch.cuda.is_available() else \"cpu\")\n",
        "    train_loader, test_loader = get_dataloaders(\"/content/filtered_dataset\", batch_size=32)\n",
        "    model = CBAMWDnet(num_classes=2).to(device)\n",
        "    criterion = nn.CrossEntropyLoss()\n",
        "    optimizer = optim.Adam(model.parameters(), lr=1e-4)\n",
        "\n",
        "    train_losses = []\n",
        "\n",
        "    for epoch in range(10):\n",
        "        model.train()\n",
        "        total_loss = 0\n",
        "        for imgs, labels in train_loader:\n",
        "            imgs, labels = imgs.to(device), labels.to(device)\n",
        "            optimizer.zero_grad()\n",
        "            outputs = model(imgs)\n",
        "            loss = criterion(outputs, labels)\n",
        "            loss.backward()\n",
        "            optimizer.step()\n",
        "            total_loss += loss.item()\n",
        "        print(f\"Epoch {epoch+1}, Loss: {total_loss / len(train_loader):.4f}\")\n",
        "\n",
        "    # Evaluation\n",
        "    model.eval()\n",
        "    all_preds, all_labels = [], []\n",
        "    with torch.no_grad():\n",
        "        for imgs, labels in test_loader:\n",
        "            imgs = imgs.to(device)\n",
        "            outputs = model(imgs)\n",
        "            preds = torch.argmax(outputs, dim=1).cpu()\n",
        "            all_preds.extend(preds)\n",
        "            all_labels.extend(labels)\n",
        "\n",
        "    print(classification_report(all_labels, all_preds, target_names=[\"Normal\", \"TB\"]))\n",
        "    plt.figure(figsize=(8, 6))\n",
        "    plt.plot(range(1, len(train_losses) + 1), train_losses, 'bo-', label='Training Loss')\n",
        "    plt.title('Training Loss Over Epochs')\n",
        "    plt.xlabel('Epoch')\n",
        "    plt.ylabel('Loss')\n",
        "    plt.legend()\n",
        "    plt.grid(True)\n",
        "    plt.show()\n",
        "\n",
        "# === MAIN ===\n",
        "\n",
        "if __name__ == \"__main__\":\n",
        "    print(\"Preparing dataset...\")\n",
        "    prepare_dataset()\n",
        "    print(\"Training and evaluating model...\")\n",
        "    train_and_evaluate()"
      ],
      "metadata": {
        "colab": {
          "base_uri": "https://localhost:8080/",
          "height": 1000
        },
        "id": "hQvJGgd2_SKW",
        "outputId": "cd58846d-8d3a-47ce-f532-5639d6d924bb"
      },
      "execution_count": 6,
      "outputs": [
        {
          "output_type": "stream",
          "name": "stdout",
          "text": [
            "Preparing dataset...\n",
            "Total TB images found: 393\n",
            "Total Normal images found: 406\n",
            "Training and evaluating model...\n"
          ]
        },
        {
          "output_type": "stream",
          "name": "stderr",
          "text": [
            "/usr/local/lib/python3.11/dist-packages/torchvision/models/_utils.py:208: UserWarning: The parameter 'pretrained' is deprecated since 0.13 and may be removed in the future, please use 'weights' instead.\n",
            "  warnings.warn(\n",
            "/usr/local/lib/python3.11/dist-packages/torchvision/models/_utils.py:223: UserWarning: Arguments other than a weight enum or `None` for 'weights' are deprecated since 0.13 and may be removed in the future. The current behavior is equivalent to passing `weights=DenseNet121_Weights.IMAGENET1K_V1`. You can also use `weights=DenseNet121_Weights.DEFAULT` to get the most up-to-date weights.\n",
            "  warnings.warn(msg)\n",
            "Downloading: \"https://download.pytorch.org/models/densenet121-a639ec97.pth\" to /root/.cache/torch/hub/checkpoints/densenet121-a639ec97.pth\n",
            "100%|██████████| 30.8M/30.8M [00:00<00:00, 163MB/s]\n"
          ]
        },
        {
          "output_type": "stream",
          "name": "stdout",
          "text": [
            "Epoch 1, Loss: 0.5895\n",
            "Epoch 2, Loss: 0.3711\n",
            "Epoch 3, Loss: 0.2457\n",
            "Epoch 4, Loss: 0.1332\n",
            "Epoch 5, Loss: 0.1292\n",
            "Epoch 6, Loss: 0.0953\n",
            "Epoch 7, Loss: 0.0763\n",
            "Epoch 8, Loss: 0.0589\n",
            "Epoch 9, Loss: 0.0459\n",
            "Epoch 10, Loss: 0.0167\n",
            "              precision    recall  f1-score   support\n",
            "\n",
            "      Normal       0.83      0.90      0.86        84\n",
            "          TB       0.88      0.79      0.83        76\n",
            "\n",
            "    accuracy                           0.85       160\n",
            "   macro avg       0.85      0.85      0.85       160\n",
            "weighted avg       0.85      0.85      0.85       160\n",
            "\n"
          ]
        },
        {
          "output_type": "display_data",
          "data": {
            "text/plain": [
              "<Figure size 800x600 with 1 Axes>"
            ],
            "image/png": "[encoded data removed]"
          },
          "metadata": {}
        }
      ]
    }
  ]
}