{
  "nbformat": 4,
  "nbformat_minor": 0,
  "metadata": {
    "colab": {
      "provenance": []
    },
    "kernelspec": {
      "name": "python3",
      "display_name": "Python 3"
    },
    "language_info": {
      "name": "python"
    }
  },
  "cells": [
    {
      "cell_type": "code",
      "source": [
        "class Employee:\n",
        "  count=0\n",
        "  def __init__(self,name,family,salary,department): #initializing with constructor method\n",
        "        self.name = name\n",
        "        self.family = family\n",
        "        self.salary = salary\n",
        "        self.department = department\n",
        "        Employee.count+=1\n",
        "  def avgsal(employees): #average salary function\n",
        "    totalSalary=sum(emp.salary for emp in employees)\n",
        "    return totalSalary/len(employees) if employees else 0\n",
        "class fulltimeEmployee(Employee):\n",
        "  def __init__(self,name,family,salary,department):\n",
        "    super().__init__(name, family, salary, department)\n",
        "emp1 = Employee(\"mani\",\"allada\",16000,'IT') #object 1\n",
        "emp2 = Employee(\"vanitha\",\"chintalapudi\",20000,'Tech') #object 2\n",
        "fulltime_emp1=fulltimeEmployee(\"aravind\",\"komandla\",50000,\"Service\")\n",
        "employees=[emp1,emp2,fulltime_emp1]\n",
        "print(Employee.count)\n",
        "print(Employee.avgsal(employees))"
      ],
      "metadata": {
        "colab": {
          "base_uri": "https://localhost:8080/"
        },
        "id": "WaDVbTSCEkJt",
        "outputId": "b707f532-cc3c-4917-db7c-d8602d0f486e"
      },
      "execution_count": 23,
      "outputs": [
        {
          "output_type": "stream",
          "name": "stdout",
          "text": [
            "3\n",
            "86000\n",
            "28666.666666666668\n"
          ]
        }
      ]
    },
    {
      "cell_type": "code",
      "execution_count": 90,
      "metadata": {
        "colab": {
          "base_uri": "https://localhost:8080/"
        },
        "id": "EA7yJ5QhEggN",
        "outputId": "3c06a9f2-e1d8-4543-e23a-2d493e61e706"
      },
      "outputs": [
        {
          "output_type": "stream",
          "name": "stdout",
          "text": [
            "[[14.75154062  7.34927153 15.94482584  0.          4.76190746]\n",
            " [13.73089697  9.17371228  6.22132119  0.          9.09090622]\n",
            " [ 7.31750543  0.         18.01382495  1.28990034  9.10758138]\n",
            " [ 6.16383947  0.         13.45571319 14.06599938 18.23545928]]\n"
          ]
        }
      ],
      "source": [
        "import numpy as np\n",
        "vc=np.random.uniform(1,20,20) #creating randon 20 numbers\n",
        "a=vc.reshape(4,5) #reshaping it into array\n",
        "max_elements = np.amax(a, axis=1) #finding max element of each row\n",
        "max_elements = max_elements[:, None] #storing them in to list\n",
        "new_arr = np.where(a == max_elements, 0, a) #changing those elements to 0\n",
        "print(new_arr)"
      ]
    },
    {
      "cell_type": "markdown",
      "source": [
        "https://drive.google.com/file/d/14b37_dMEDcLSKv4c9axbzB6vBPuNAG0W/view?usp=drive_link"
      ],
      "metadata": {
        "id": "XSpVu91cZ8B9"
      }
    },
    {
      "cell_type": "markdown",
      "source": [],
      "metadata": {
        "id": "mpPTo69fMSWd"
      }
    },
    {
      "cell_type": "markdown",
      "source": [],
      "metadata": {
        "id": "ukHqTMNm6Maq"
      }
    }
  ]
}